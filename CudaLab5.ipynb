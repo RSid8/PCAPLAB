{
  "nbformat": 4,
  "nbformat_minor": 0,
  "metadata": {
    "colab": {
      "name": "CudaLab5.ipynb",
      "provenance": [],
      "collapsed_sections": [],
      "authorship_tag": "ABX9TyMjJpWnss+IWN8rj5QAb12q",
      "include_colab_link": true
    },
    "kernelspec": {
      "name": "python3",
      "display_name": "Python 3"
    },
    "language_info": {
      "name": "python"
    },
    "accelerator": "GPU"
  },
  "cells": [
    {
      "cell_type": "markdown",
      "metadata": {
        "id": "view-in-github",
        "colab_type": "text"
      },
      "source": [
        "<a href=\"https://colab.research.google.com/github/RSid8/PCAPLAB/blob/main/CudaLab5.ipynb\" target=\"_parent\"><img src=\"https://colab.research.google.com/assets/colab-badge.svg\" alt=\"Open In Colab\"/></a>"
      ]
    },
    {
      "cell_type": "code",
      "metadata": {
        "colab": {
          "base_uri": "https://localhost:8080/"
        },
        "id": "kfrzyqZg3hZ9",
        "outputId": "e98b6178-4e5c-4290-8bb0-7ce907014c66"
      },
      "source": [
        "!pip install git+git://github.com/andreinechaev/nvcc4jupyter.git\n",
        "\n",
        "%load_ext nvcc_plugin"
      ],
      "execution_count": 1,
      "outputs": [
        {
          "output_type": "stream",
          "text": [
            "Collecting git+git://github.com/andreinechaev/nvcc4jupyter.git\n",
            "  Cloning git://github.com/andreinechaev/nvcc4jupyter.git to /tmp/pip-req-build-7445t58s\n",
            "  Running command git clone -q git://github.com/andreinechaev/nvcc4jupyter.git /tmp/pip-req-build-7445t58s\n",
            "Building wheels for collected packages: NVCCPlugin\n",
            "  Building wheel for NVCCPlugin (setup.py) ... \u001b[?25l\u001b[?25hdone\n",
            "  Created wheel for NVCCPlugin: filename=NVCCPlugin-0.0.2-cp37-none-any.whl size=4307 sha256=6950be7a1b3d89ff000610925a50244bb1d041f93cd78c4191b7d883a1df01f5\n",
            "  Stored in directory: /tmp/pip-ephem-wheel-cache-238cog1o/wheels/10/c2/05/ca241da37bff77d60d31a9174f988109c61ba989e4d4650516\n",
            "Successfully built NVCCPlugin\n",
            "Installing collected packages: NVCCPlugin\n",
            "Successfully installed NVCCPlugin-0.0.2\n",
            "created output directory at /content/src\n",
            "Out bin /content/result.out\n"
          ],
          "name": "stdout"
        }
      ]
    },
    {
      "cell_type": "code",
      "metadata": {
        "colab": {
          "base_uri": "https://localhost:8080/"
        },
        "id": "_-Vv-EId81Kr",
        "outputId": "e9f8e72e-6cfd-4f74-c06b-45dcf3bfe068"
      },
      "source": [
        "%%cu\n",
        "\n",
        "#include<cuda.h>\n",
        "#include<stdlib.h>\n",
        "#include<stdio.h>\n",
        "__global__ void vecAddKernel(float* a, float* b, float* c, int n){\n",
        "    int i = threadIdx.x + blockDim.x*blockIdx.x;\n",
        "    if(i<n){\n",
        "        c[i]=a[i]+b[i];\n",
        "    }\n",
        "}\n",
        "void vecAdd(float* a, float* b, float* c, int n){\n",
        "    float *d_a, *d_b, *d_c;\n",
        "    int size=n*sizeof(float);\n",
        "    \n",
        "    cudaMalloc((void**)&d_a, size);\n",
        "    cudaMalloc((void**)&d_b, size);\n",
        "    cudaMalloc((void**)&d_c, size);\n",
        "\n",
        "    cudaMemcpy(d_a, a, size, cudaMemcpyHostToDevice);\n",
        "    cudaMemcpy(d_b, b, size, cudaMemcpyHostToDevice);\n",
        "\n",
        "    printf(\"A: \");\n",
        "    for (int i = 0; i < n; i++)\n",
        "    {\n",
        "        printf(\"%f, \", a[i]);\n",
        "    }\n",
        "    printf(\"\\n\");\n",
        " \n",
        "    printf(\"B: \");\n",
        "    for (int i = 0; i < n; i++)\n",
        "    {\n",
        "        printf(\"%f, \", b[i]);\n",
        "    }\n",
        "    printf(\"\\n\\n\");\n",
        "\n",
        "    vecAddKernel<<<n,1>>>(d_a, d_b, d_c, n);\n",
        "\n",
        "    cudaMemcpy(c, d_c, size, cudaMemcpyDeviceToHost);\n",
        " \n",
        "    printf(\"a+b (for 1a): \");\n",
        "    for (int i = 0; i < n ; i++)\n",
        "    {\n",
        "        printf(\"%f, \", c[i]);\n",
        "    }\n",
        "    printf(\"\\n\");\n",
        "\n",
        "    vecAddKernel<<<1,n>>>(d_a, d_b, d_c, n);\n",
        "\n",
        "    cudaMemcpy(c, d_c, size, cudaMemcpyDeviceToHost);\n",
        " \n",
        "    printf(\"a+b (for 1b): \");\n",
        "    for (int i = 0; i < n ; i++)\n",
        "    {\n",
        "        printf(\"%f, \", c[i]);\n",
        "    }\n",
        "    printf(\"\\n\");\n",
        "\n",
        "    vecAddKernel<<<ceil(n/256.0),256>>>(d_a, d_b, d_c, n);\n",
        "\n",
        "    cudaMemcpy(c, d_c, size, cudaMemcpyDeviceToHost);\n",
        " \n",
        "    printf(\"a+b (for 1c): \");\n",
        "    for (int i = 0; i < n ; i++)\n",
        "    {\n",
        "        printf(\"%f, \", c[i]);\n",
        "    }\n",
        "    printf(\"\\n\");\n",
        "    cudaFree(d_a);\n",
        "    cudaFree(d_b);\n",
        "    cudaFree(d_c);\n",
        "}\n",
        "\n",
        "int main()\n",
        "{\n",
        "    float *h_A, *h_B, *h_C;\n",
        "    int n = 10;\n",
        "\n",
        "    int size = n * sizeof(float);\n",
        "\n",
        "    h_A = (float*) malloc(size);\n",
        "    h_B = (float*) malloc(size);\n",
        "    h_C = (float*) malloc(size);\n",
        "    \n",
        "    for (int i = 0; i < n; i++)\n",
        "    {\n",
        "        h_A[i] = (i+1) * 10;\n",
        "        h_B[i] = i+1;\n",
        "    }\n",
        "\n",
        "    vecAdd(h_A, h_B, h_C, n);\n",
        "\n",
        "    return 0;\n",
        "}"
      ],
      "execution_count": 6,
      "outputs": [
        {
          "output_type": "stream",
          "text": [
            "A: 10.000000, 20.000000, 30.000000, 40.000000, 50.000000, 60.000000, 70.000000, 80.000000, 90.000000, 100.000000, \n",
            "B: 1.000000, 2.000000, 3.000000, 4.000000, 5.000000, 6.000000, 7.000000, 8.000000, 9.000000, 10.000000, \n",
            "\n",
            "a+b (for 1a): 11.000000, 22.000000, 33.000000, 44.000000, 55.000000, 66.000000, 77.000000, 88.000000, 99.000000, 110.000000, \n",
            "a+b (for 1b): 11.000000, 22.000000, 33.000000, 44.000000, 55.000000, 66.000000, 77.000000, 88.000000, 99.000000, 110.000000, \n",
            "a+b (for 1c): 11.000000, 22.000000, 33.000000, 44.000000, 55.000000, 66.000000, 77.000000, 88.000000, 99.000000, 110.000000, \n",
            "\n"
          ],
          "name": "stdout"
        }
      ]
    },
    {
      "cell_type": "code",
      "metadata": {
        "colab": {
          "base_uri": "https://localhost:8080/"
        },
        "id": "Fe_TWchwAdUC",
        "outputId": "a8870fbb-51ff-4fd7-ff3b-c4507720b896"
      },
      "source": [
        "%%cu\n",
        "#include<cuda.h>\n",
        "#include<stdlib.h>\n",
        "#include<stdio.h>\n",
        "__global__ void selectionSortKernel(float *a, float* b, int n){\n",
        "    int idx = threadIdx.x + blockDim.x*blockIdx.x;\n",
        "    float data=a[idx];\n",
        "    int pos=0;\n",
        "    for(int i=0; i<n; i++){\n",
        "        if(a[i]<data||(a[i]==data&&(i<idx))){\n",
        "            pos++;\n",
        "        }\n",
        "    }\n",
        "    b[pos]=data;\n",
        "}\n",
        "\n",
        "void SelectionSort(float *unsorted, float* sorted, int n){\n",
        "    float *d_a, *d_b;\n",
        "    int size=n*sizeof(float);\n",
        "    \n",
        "    cudaMalloc((void**)&d_a, size);\n",
        "    cudaMalloc((void**)&d_b, size);\n",
        "\n",
        "    cudaMemcpy(d_a, unsorted, size, cudaMemcpyHostToDevice);\n",
        "    printf(\"Unsorted array: \");\n",
        "    for (int i = 0; i < n; i++)\n",
        "    {\n",
        "        printf(\"%f, \", unsorted[i]);\n",
        "    }\n",
        "    printf(\"\\n\");\n",
        "    selectionSortKernel<<<n,1>>>(d_a, d_b, n);\n",
        "    cudaMemcpy(sorted, d_b, size, cudaMemcpyDeviceToHost);\n",
        "    printf(\"Sorted array: \");\n",
        "    for (int i = 0; i < n; i++)\n",
        "    {\n",
        "        printf(\"%f, \", sorted[i]);\n",
        "    }\n",
        "    printf(\"\\n\");\n",
        "    cudaFree(d_a);\n",
        "    cudaFree(d_b);\n",
        "}\n",
        "int main(){\n",
        "    float *sorted, *unsorted;\n",
        "    int n=10;\n",
        "    int size=n*sizeof(float);\n",
        "    unsorted = (float*) malloc(size);\n",
        "    sorted = (float*) malloc(size);\n",
        "    for(int i=0;i<n;i++){\n",
        "        unsorted[i]=rand()%150;\n",
        "    }\n",
        "    SelectionSort(unsorted, sorted, n);\n",
        "    return 0;\n",
        "}\n"
      ],
      "execution_count": 8,
      "outputs": [
        {
          "output_type": "stream",
          "text": [
            "Unsorted array: 133.000000, 136.000000, 27.000000, 115.000000, 143.000000, 85.000000, 136.000000, 42.000000, 99.000000, 121.000000, \n",
            "Sorted array: 27.000000, 42.000000, 85.000000, 99.000000, 115.000000, 121.000000, 133.000000, 136.000000, 136.000000, 143.000000, \n",
            "\n"
          ],
          "name": "stdout"
        }
      ]
    },
    {
      "cell_type": "code",
      "metadata": {
        "colab": {
          "base_uri": "https://localhost:8080/"
        },
        "id": "o4W1T3ilIKig",
        "outputId": "4b1c160c-14f7-462c-9154-549451d17711"
      },
      "source": [
        "%%cu\n",
        "#include<cuda.h>\n",
        "#include<stdlib.h>\n",
        "#include<stdio.h>\n",
        "__global__ void OddEvenKernel(float *arr, int n){\n",
        "    int idx = threadIdx.x + blockDim.x*blockIdx.x;\n",
        "    if((idx%2!=0)&&(idx+1<n)){\n",
        "        if(arr[idx]>=arr[idx+1]){\n",
        "            float temp=arr[idx];\n",
        "            arr[idx]=arr[idx+1];\n",
        "            arr[idx+1]=temp;\n",
        "        }\n",
        "    }\n",
        "}\n",
        "__global__ void EvenOddKernel(float *arr, int n){\n",
        "    int idx = threadIdx.x + blockDim.x*blockIdx.x;\n",
        "    if((idx%2==0)&&(idx+1<n)){\n",
        "        if(arr[idx]>=arr[idx+1]){\n",
        "            float temp=arr[idx];\n",
        "            arr[idx]=arr[idx+1];\n",
        "            arr[idx+1]=temp;\n",
        "        }\n",
        "    }\n",
        "}\n",
        "void OddEvenTranspositionSort(float *arr, int n){\n",
        "    float *d_a;\n",
        "    int size=n*sizeof(float);\n",
        "    cudaMalloc((void**)&d_a, size);\n",
        "    cudaMemcpy(d_a,arr,size,cudaMemcpyHostToDevice);\n",
        "    for (int i = 0; i <= n/2; i++)\n",
        "    {\n",
        "        OddEvenKernel<<<1, n>>>(d_a, n);\n",
        "        EvenOddKernel<<<1, n>>>(d_a, n);\n",
        "    }\n",
        "    cudaMemcpy(arr, d_a, size, cudaMemcpyDeviceToHost);\n",
        " \n",
        "    cudaFree(d_a);\n",
        "}\n",
        "int main(){\n",
        "    float *arr;\n",
        "    int n=10;\n",
        "    int size=n*sizeof(float);\n",
        "    arr=(float*)malloc(size);\n",
        "    for(int i=0;i<n;i++){\n",
        "        arr[i]=rand()%150;\n",
        "    }\n",
        "    printf(\"Unsorted array: \");\n",
        "    for(int i=0;i<n;i++){\n",
        "        printf(\"%f, \", arr[i]);\n",
        "    }\n",
        "    printf(\"\\n\\n\");\n",
        "    printf(\"Sorted array: \");\n",
        "    OddEvenTranspositionSort(arr,n);\n",
        "    for(int i=0;i<n;i++){\n",
        "        printf(\"%f, \", arr[i]);\n",
        "    }\n",
        "    printf(\"\\n\\n\");\n",
        "    return 0;\n",
        "}\n"
      ],
      "execution_count": 11,
      "outputs": [
        {
          "output_type": "stream",
          "text": [
            "Unsorted array: 133.000000, 136.000000, 27.000000, 115.000000, 143.000000, 85.000000, 136.000000, 42.000000, 99.000000, 121.000000, \n",
            "\n",
            "Sorted array: 27.000000, 42.000000, 85.000000, 99.000000, 115.000000, 121.000000, 133.000000, 136.000000, 136.000000, 143.000000, \n",
            "\n",
            "\n"
          ],
          "name": "stdout"
        }
      ]
    },
    {
      "cell_type": "code",
      "metadata": {
        "id": "RVDB1DIBNxrz"
      },
      "source": [
        ""
      ],
      "execution_count": null,
      "outputs": []
    }
  ]
}